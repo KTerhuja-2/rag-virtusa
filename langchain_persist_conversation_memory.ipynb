{
 "cells": [
  {
   "cell_type": "code",
   "execution_count": 1,
   "metadata": {
    "ExecuteTime": {
     "end_time": "2023-05-13T03:18:48.389525Z",
     "start_time": "2023-05-13T03:18:46.901957Z"
    },
    "collapsed": true
   },
   "outputs": [],
   "source": [
    "from langchain.chat_models import ChatOpenAI\n",
    "from langchain.memory.chat_message_histories.in_memory import ChatMessageHistory\n",
    "from langchain.schema import messages_from_dict, messages_to_dict\n",
    "from langchain.memory import ConversationBufferMemory\n",
    "from langchain.chains import ConversationalRetrievalChain, ConversationChain\n",
    "import json\n",
    "\n",
    "llm = ChatOpenAI(temperature=0, model_name='gpt-3.5-turbo-0301')\n",
    "original_chain = ConversationChain(\n",
    "    llm=llm,\n",
    "    verbose=True,\n",
    "    memory=ConversationBufferMemory()\n",
    ")"
   ]
  },
  {
   "cell_type": "code",
   "execution_count": 2,
   "metadata": {
    "ExecuteTime": {
     "end_time": "2023-05-13T03:18:55.456221Z",
     "start_time": "2023-05-13T03:18:53.982765Z"
    },
    "collapsed": false
   },
   "outputs": [
    {
     "name": "stdout",
     "output_type": "stream",
     "text": [
      "\n",
      "\n",
      "\u001b[1m> Entering new ConversationChain chain...\u001b[0m\n",
      "Prompt after formatting:\n",
      "\u001b[32;1m\u001b[1;3mThe following is a friendly conversation between a human and an AI. The AI is talkative and provides lots of specific details from its context. If the AI does not know the answer to a question, it truthfully says it does not know.\n",
      "\n",
      "Current conversation:\n",
      "\n",
      "Human: what do you know about Python in less than 10 words\n",
      "AI:\u001b[0m\n",
      "\n",
      "\u001b[1m> Finished chain.\u001b[0m\n"
     ]
    },
    {
     "data": {
      "text/plain": [
       "'Python is a high-level programming language.'"
      ]
     },
     "execution_count": 2,
     "metadata": {},
     "output_type": "execute_result"
    }
   ],
   "source": [
    "original_chain.run('what do you know about Python in less than 10 words')"
   ]
  },
  {
   "cell_type": "code",
   "execution_count": 6,
   "metadata": {
    "ExecuteTime": {
     "end_time": "2023-05-13T03:20:56.877900Z",
     "start_time": "2023-05-13T03:20:56.874654Z"
    },
    "collapsed": false
   },
   "outputs": [
    {
     "data": {
      "text/plain": [
       "[HumanMessage(content='what do you know about Python in less than 10 words', additional_kwargs={}),\n",
       " AIMessage(content='Python is a high-level programming language.', additional_kwargs={})]"
      ]
     },
     "execution_count": 6,
     "metadata": {},
     "output_type": "execute_result"
    }
   ],
   "source": [
    "def matrix_dot_vector(a:list[list[int|float]],b:list[int|float])-> list[int|float]:\n",
    "    if len(a) != len(b):\n",
    "      return -1\n",
    "    \n",
    "  \telse:\n",
    "    c=[]\n",
    "      \tfor i in range(len(a)):\n",
    "        \tvalue = 0\n",
    "        \tfor j in range(len(b)):\n",
    "          \n",
    "          \tvalue += a[i][j]*b[j]\n",
    "        \n",
    "\t   \tc.append(value)\n",
    "        \n",
    "    \n",
    "    return c"
   ]
  },
  {
   "cell_type": "code",
   "execution_count": 7,
   "metadata": {
    "ExecuteTime": {
     "end_time": "2023-05-13T03:21:01.619307Z",
     "start_time": "2023-05-13T03:21:01.615452Z"
    },
    "collapsed": false
   },
   "outputs": [
    {
     "data": {
      "text/plain": [
       "[{'type': 'human',\n",
       "  'data': {'content': 'what do you know about Python in less than 10 words',\n",
       "   'additional_kwargs': {}}},\n",
       " {'type': 'ai',\n",
       "  'data': {'content': 'Python is a high-level programming language.',\n",
       "   'additional_kwargs': {}}}]"
      ]
     },
     "execution_count": 7,
     "metadata": {},
     "output_type": "execute_result"
    }
   ],
   "source": []
  },
  {
   "cell_type": "code",
   "execution_count": 8,
   "metadata": {
    "ExecuteTime": {
     "end_time": "2023-05-13T03:21:05.780809Z",
     "start_time": "2023-05-13T03:21:05.766677Z"
    },
    "collapsed": false
   },
   "outputs": [
    {
     "data": {
      "text/plain": [
       "[{'type': 'human',\n",
       "  'data': {'content': 'what do you know about Python in less than 10 words',\n",
       "   'additional_kwargs': {}}},\n",
       " {'type': 'ai',\n",
       "  'data': {'content': 'Python is a high-level programming language.',\n",
       "   'additional_kwargs': {}}}]"
      ]
     },
     "execution_count": 8,
     "metadata": {},
     "output_type": "execute_result"
    }
   ],
   "source": []
  },
  {
   "cell_type": "code",
   "execution_count": 10,
   "metadata": {
    "ExecuteTime": {
     "end_time": "2023-05-13T03:23:50.282924Z",
     "start_time": "2023-05-13T03:23:50.280498Z"
    },
    "collapsed": false
   },
   "outputs": [
    {
     "data": {
      "text/plain": [
       "[HumanMessage(content='what do you know about Python in less than 10 words', additional_kwargs={}),\n",
       " AIMessage(content='Python is a high-level programming language.', additional_kwargs={})]"
      ]
     },
     "execution_count": 10,
     "metadata": {},
     "output_type": "execute_result"
    }
   ],
   "source": []
  },
  {
   "cell_type": "code",
   "execution_count": 11,
   "metadata": {
    "ExecuteTime": {
     "end_time": "2023-05-13T03:24:08.126431Z",
     "start_time": "2023-05-13T03:24:08.121768Z"
    },
    "collapsed": false
   },
   "outputs": [
    {
     "data": {
      "text/plain": [
       "ChatMessageHistory(messages=[HumanMessage(content='what do you know about Python in less than 10 words', additional_kwargs={}), AIMessage(content='Python is a high-level programming language.', additional_kwargs={})])"
      ]
     },
     "execution_count": 11,
     "metadata": {},
     "output_type": "execute_result"
    }
   ],
   "source": []
  },
  {
   "cell_type": "code",
   "execution_count": 12,
   "metadata": {
    "ExecuteTime": {
     "end_time": "2023-05-13T03:24:47.745667Z",
     "start_time": "2023-05-13T03:24:47.741103Z"
    },
    "collapsed": false
   },
   "outputs": [
    {
     "data": {
      "text/plain": [
       "ConversationBufferMemory(chat_memory=ChatMessageHistory(messages=[HumanMessage(content='what do you know about Python in less than 10 words', additional_kwargs={}), AIMessage(content='Python is a high-level programming language.', additional_kwargs={})]), output_key=None, input_key=None, return_messages=False, human_prefix='Human', ai_prefix='AI', memory_key='history')"
      ]
     },
     "execution_count": 12,
     "metadata": {},
     "output_type": "execute_result"
    }
   ],
   "source": []
  },
  {
   "cell_type": "code",
   "execution_count": 13,
   "metadata": {
    "ExecuteTime": {
     "end_time": "2023-05-13T03:25:15.417515Z",
     "start_time": "2023-05-13T03:25:13.098319Z"
    },
    "collapsed": false
   },
   "outputs": [
    {
     "name": "stdout",
     "output_type": "stream",
     "text": [
      "\n",
      "\n",
      "\u001b[1m> Entering new ConversationChain chain...\u001b[0m\n",
      "Prompt after formatting:\n",
      "\u001b[32;1m\u001b[1;3mThe following is a friendly conversation between a human and an AI. The AI is talkative and provides lots of specific details from its context. If the AI does not know the answer to a question, it truthfully says it does not know.\n",
      "\n",
      "Current conversation:\n",
      "Human: what do you know about Python in less than 10 words\n",
      "AI: Python is a high-level programming language.\n",
      "Human: what about Javascript and Ruby\n",
      "AI:\u001b[0m\n",
      "\n",
      "\u001b[1m> Finished chain.\u001b[0m\n"
     ]
    },
    {
     "data": {
      "text/plain": [
       "'JavaScript is a scripting language used for web development, while Ruby is a dynamic, object-oriented programming language.'"
      ]
     },
     "execution_count": 13,
     "metadata": {},
     "output_type": "execute_result"
    }
   ],
   "source": []
  },
  {
   "cell_type": "code",
   "execution_count": 10,
   "metadata": {},
   "outputs": [],
   "source": [
    "def calculate_covariance_matrix(vectors: list[list[float]]) -> list[list[float]]:\n",
    "    means = []\n",
    "    \n",
    "    for vector in vectors:\n",
    "      sum = 0\n",
    "      for element in vector:\n",
    "        sum +=element\n",
    "        \n",
    "      means.append(sum/len(vector))\n",
    "\n",
    "    covariance_matrix = []\n",
    "    for i in range(len(vectors)):\n",
    "      covariance_vector = []\n",
    "      for j in range(len(vectors)):\n",
    "        \n",
    "        temp_1 = [x-means[i] for x in vectors[i]]\n",
    "        temp_2 = [x - means[j] for x in vectors[j]]\n",
    "\n",
    "        print(temp_1)\n",
    "        print(temp_2)\n",
    "        covariance = 0\n",
    "        \n",
    "        for k in range(len(temp_1)):\n",
    "          covariance += temp_1[k]*temp_2[k]\n",
    "          \n",
    "        # print(covariance)\n",
    "        covariance_vector.append(covariance/(len(temp_1)-1))\n",
    "      \n",
    "      covariance_matrix.append(covariance_vector)\n",
    "          \n",
    "        \n",
    "        \n",
    "      \n",
    "    \n",
    "    return covariance_matrix"
   ]
  },
  {
   "cell_type": "code",
   "execution_count": 11,
   "metadata": {},
   "outputs": [
    {
     "name": "stdout",
     "output_type": "stream",
     "text": [
      "[-1.0, 0.0, 1.0]\n",
      "[-1.0, 0.0, 1.0]\n",
      "2.0\n",
      "[-1.0, 0.0, 1.0]\n",
      "[-1.0, 0.0, 1.0]\n",
      "2.0\n",
      "[-1.0, 0.0, 1.0]\n",
      "[-1.0, 0.0, 1.0]\n",
      "2.0\n",
      "[-1.0, 0.0, 1.0]\n",
      "[-1.0, 0.0, 1.0]\n",
      "2.0\n",
      "[[1.0, 1.0], [1.0, 1.0]]\n"
     ]
    }
   ],
   "source": [
    "print(calculate_covariance_matrix([[1, 2, 3], [4, 5, 6]]))"
   ]
  }
 ],
 "metadata": {
  "kernelspec": {
   "display_name": "Python 3",
   "language": "python",
   "name": "python3"
  },
  "language_info": {
   "codemirror_mode": {
    "name": "ipython",
    "version": 3
   },
   "file_extension": ".py",
   "mimetype": "text/x-python",
   "name": "python",
   "nbconvert_exporter": "python",
   "pygments_lexer": "ipython3",
   "version": "3.10.13"
  }
 },
 "nbformat": 4,
 "nbformat_minor": 0
}
