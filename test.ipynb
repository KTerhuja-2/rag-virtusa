{
 "cells": [
  {
   "cell_type": "code",
   "execution_count": null,
   "metadata": {},
   "outputs": [],
   "source": [
    "from typing import Union\n",
    "from langchain_community.document_loaders import TextLoader, PyMuPDFLoader, DirectoryLoader\n",
    "\n",
    "def load_docs(path: str, doc_type: str) -> Union[str, list]:\n",
    "    \"\"\"\n",
    "    Load documents from specified path based on document type.\n",
    "\n",
    "    Args:\n",
    "        path (str): Path to the document(s) or folder containing documents.\n",
    "        doc_type (str): Type of document(s) to load. Supported types are 'text', 'pdf', or 'folder'.\n",
    "\n",
    "    Returns:\n",
    "        Union[str, list]: Loaded document(s) as a string for single documents ('text', 'pdf'),\n",
    "                          or a list of strings for multiple text files ('folder').\n",
    "    \n",
    "    Raises:\n",
    "        ValueError: If an unsupported document type is provided.\n",
    "    \"\"\"\n",
    "    if doc_type == 'text':\n",
    "        loader = TextLoader(path)\n",
    "    elif doc_type == 'pdf':\n",
    "        loader = PyMuPDFLoader(path)\n",
    "    elif doc_type == 'folder':\n",
    "        loader = DirectoryLoader(path, glob=\"**/*.txt\", loader_cls=TextLoader)\n",
    "    else:\n",
    "        raise ValueError(f\"Unsupported document type: {doc_type}\")\n",
    "\n",
    "    loaded = loader.load()\n",
    "    \n",
    "    return loaded\n"
   ]
  },
  {
   "cell_type": "code",
   "execution_count": null,
   "metadata": {},
   "outputs": [],
   "source": [
    "from langchain_community.document_loaders import TextLoader, PyMuPDFLoader, DirectoryLoader\n",
    "loader = PyMuPDFLoader('data/Boston Scientific.RhythmCare POC.SOW 20231226 - SF.pdf')"
   ]
  }
 ],
 "metadata": {
  "language_info": {
   "name": "python"
  }
 },
 "nbformat": 4,
 "nbformat_minor": 2
}
